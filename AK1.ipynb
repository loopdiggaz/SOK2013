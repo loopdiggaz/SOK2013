{
 "cells": [
  {
   "cell_type": "markdown",
   "metadata": {},
   "source": [
    "### Lokale og globale sjokk"
   ]
  },
  {
   "cell_type": "code",
   "execution_count": 5,
   "metadata": {},
   "outputs": [
    {
     "name": "stdout",
     "output_type": "stream",
     "text": [
      "[1. 1. 1. 1. 1. 1. 1. 1. 1. 1. 1.]\n"
     ]
    }
   ],
   "source": [
    "\n",
    "import numpy as np\n",
    "\n",
    "# Funksjon for å kalkulere w1/w2 raten\n",
    "def calculate_w_ratio(lambda_val, gamma, L, phi1, beta, rho, alpha, epsilon, delta, T, LIMIT):\n",
    "    lmbda1 = lambda_val\n",
    "    lmbda2 = 1 - lmbda1\n",
    "\n",
    "    def calc_Y(lmbda, W):\n",
    "        return lmbda * gamma * L * W + phi1 * (1 - gamma) * L\n",
    "\n",
    "    def calc_I(lmbdar, Wr, lmbdan, Wn):\n",
    "        const = (beta / rho) * ((gamma * L) / (alpha * epsilon))**(1 / (1 - epsilon))\n",
    "        return const * (lmbdar * Wr**(1 - epsilon) + lmbdan * T**(1 - epsilon) * Wn**(1 - epsilon))**(1 / (1 - epsilon))\n",
    "\n",
    "    def calc_W(Yr, Ir, Yn, In):\n",
    "        const = (rho * beta**(-rho)) * (delta / ((epsilon - 1) * alpha))**(1 / epsilon)\n",
    "        return const * (Yr * Ir**(epsilon - 1) + Yn * T**(1 - epsilon) * In**(epsilon - 1))**(1 / epsilon)\n",
    "\n",
    "    W1 = 1\n",
    "    W2 = 1\n",
    "    iterations = 0\n",
    "\n",
    "    while True:\n",
    "        Y1 = calc_Y(lmbda1, W1)\n",
    "        Y2 = calc_Y(lmbda2, W2)\n",
    "        I1 = calc_I(lmbda1, W1, lmbda2, W2)\n",
    "        I2 = calc_I(lmbda2, W2, lmbda1, W1)\n",
    "        new_W1 = calc_W(Y1, I1, Y2, I2)\n",
    "        new_W2 = calc_W(Y2, I2, Y1, I1)\n",
    "        w1 = new_W1 * I1**(-delta)\n",
    "        w2 = new_W2 * I2**(-delta)\n",
    "        \n",
    "        criterion1 = abs((new_W1 - W1) / W1)\n",
    "        criterion2 = abs((new_W2 - W2) / W2)\n",
    "\n",
    "        if criterion1 < LIMIT and criterion2 < LIMIT:\n",
    "            break\n",
    "        \n",
    "        W1 = new_W1\n",
    "        W2 = new_W2\n",
    "        iterations += 1\n",
    "\n",
    "    return w1 / w2\n",
    "\n",
    "# Funksjon for å simulere modellen\n",
    "def simulate_model(lambda_values, gamma, L, phi1, beta, rho, alpha, epsilon, delta, T, LIMIT):\n",
    "    w_ratios = np.zeros(len(lambda_values))\n",
    "    for i, lambda_val in enumerate(lambda_values):\n",
    "        w_ratios[i] = calculate_w_ratio(lambda_val, gamma, L, phi1, beta, rho, alpha, epsilon, delta, T, LIMIT)\n",
    "    return w_ratios\n",
    "\n",
    "# Simulering for benchmark verdier\n",
    "lambda_values = np.arange(0, 1.1, 0.1)\n",
    "\n",
    "# Definer konstanter (disse må du justere basert på hva som er spesifikt for ditt scenario)\n",
    "gamma = 0.5\n",
    "L = 100\n",
    "phi1 = 0.3\n",
    "beta = 0.9\n",
    "rho = 0.8\n",
    "alpha = 0.6\n",
    "epsilon = 1.5\n",
    "delta = 0.1\n",
    "T = 1\n",
    "LIMIT = 0.0001\n",
    "\n",
    "benchmark_ratios = simulate_model(lambda_values, gamma, L, phi1, beta, rho, alpha, epsilon, delta, T, LIMIT)\n",
    "\n",
    "# Skriv ut resultatene\n",
    "print(benchmark_ratios)\n"
   ]
  }
 ],
 "metadata": {
  "kernelspec": {
   "display_name": "Python 3",
   "language": "python",
   "name": "python3"
  },
  "language_info": {
   "codemirror_mode": {
    "name": "ipython",
    "version": 3
   },
   "file_extension": ".py",
   "mimetype": "text/x-python",
   "name": "python",
   "nbconvert_exporter": "python",
   "pygments_lexer": "ipython3",
   "version": "3.12.0"
  }
 },
 "nbformat": 4,
 "nbformat_minor": 2
}
