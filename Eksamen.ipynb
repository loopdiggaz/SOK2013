{
 "cells": [
  {
   "cell_type": "markdown",
   "metadata": {},
   "source": [
    "### Oppgave 1 "
   ]
  },
  {
   "cell_type": "markdown",
   "metadata": {},
   "source": [
    "##### Grunnlegende antakelser: \n",
    "\n",
    "- To land, to faktorer, og to varer (kapital og arbeidskraft)\n",
    "\n",
    "- Perfekt konkurranse i markedene\n",
    "\n",
    "- Ingen transportkostnader\n",
    "\n",
    "- Konstant skalautbytte "
   ]
  },
  {
   "cell_type": "markdown",
   "metadata": {},
   "source": [
    "##### Heckscher-Ohlin-modellen\n",
    "\n",
    "Modellen er en klassisk modell innenfor internasjonal handel som forklarer forskjeller i landenens ressursforhold påvirker handelsmønstre. Modellen bygger på antakselsen om at land har ulik tilgang til produksjonsfaktorer som arbeidskraft og kapital, og at dette påvirker hvilke varer de spesialiserer seg i og eksporterer.\n",
    "\n",
    "$$ Produktfunksjon: x = kf\\dfrac{n}{k} $$\n",
    "\n",
    "Her er $x$ mengde produsert, $k$ er kapitalutstyret, og $n$ er antall sysselsatte. \n",
    "\n",
    "Produksjon per enhet kapital øker hvis det blir satt inn flere arbeidere bak hver maskin, produksjonen per enhet vil bare avhenge av arbeidsinnsatsen per kapitalenhet - kan skrives som: $\\dfrac{x}{k} = f\\dfrac{n}{k}$. \n",
    "\n",
    "Produktfunksjonen kan dermed skrives som: $x = kf\\dfrac{n}{k}$ \n",
    "\n",
    "Videre antar vi at produktitiveten er stigenede men konkav. Derav ser vi at: $\\dfrac{dx}{dn} = kf' \\dfrac{1}{k} = f'$. Bedriftene i de to bransjene tilpasser seg slik at verdien av grenseproduktet er lik lønnen, så vi har: $$ pf'\\dfrac{n}{k} = w $$\n",
    "\n",
    "##### Etterspørsel etter arbeidskraft \n",
    "\n",
    "Her er $p$ prisen på det som produseres i hver bransje, og w er lønnsatsen som bransjene står ovenfor. Dette viser at bedriftenes valg av arbeidsinnsats per krone investert vil avhenge av forholdet mellom og produktpris. Etterspørselen etter arbeidskraft $(n)$ vil være en funksjon (kalt g) av forholdet mellom lønn og produktpris. \n",
    "\n",
    "$$ \\dfrac{n}{k} = g\\dfrac{w}{p} $$ \n",
    "\n",
    "Går lønnen opp eller prisen på produktet ned, så vil bedriftene velge å bruke mindre arbeidskraft per krone investert, fra denne ligningen ser vi at bedriftens etterspørsel etter arbeidskraft multiplisert med kapital mengden blir $n = kg \\dfrac{w}{p}$. Fra denne ligningen er det veldig lett å se at dersom $w \\uparrow $ vil etterspørselen etter arbeidskraft gå ned hvis lønnen øker, og gå opp hvis produktprisen øker eller bedriftene får mer kapitalutstyr. Sammennhengen mellom lønn og etterspørsel etter arbeidskraft er dermed fallende. Sammenhengen mellom produktpris og etterspørsel innebærer at kurven er fallende, og sammenhengen mellom produktpris og etterspørsel innebærer at kurven skifter om øker produktprisen øker. Forholdet mellom disse er slik at dersom produktpris og lønninger øker, vil lønnen kunnne øke prosentvis like mye og etterspørselen etter arbeidskraft. I sammenhengen mellom mengden kapitalutstyr og etterspørselen etter arbeidskraft er det viktig å huske at tilpasningsvilkåret $n = kg\\dfrac{w}{p}$ bestemmer innsatsen av arbeidskraft per krone investert som funksjon av lønn og produktpris. Så lenge lønn og produktpris er uendret, vil bedriftene derfor ønske å holde forholdstallet mellom arbeids- og kapitalinnsats konstant. Hvis det skulle bli foretatt nye investeringer i bedriftene, slik arbeidsinnsatsen øker, vil bedriftene etterspørre mer arbeidskraft slik at forholdet mellom $n$ og $k$ forblir det samme som før. \n",
    "\n",
    "##### Kort sikt \n",
    "\n",
    "Vi ser nå på en økonomi med to bransjer. Hver av dem kan beskrives på den måten som ble beskrevet ovenfor: vi lar $i$ angi bransje, derfor har vi nå en slik produktfunksjon: $x_i = k_i f_i \\dfrac{n_i}{k_i}$, der $x_i$ er mengde produsert i bransje $i$, $k_i$ er kapitalutstyret i bransjen, og $n_i$ er antall sysselsatte. Bedriftene tilpasser seg slik at verdien av arbeidskraftens grenseprodukt blir lik lønnssatsen. Produktprisene er gitt utenfor modelle, det samme er tilgangen på arbeidskraft. På kort sikt er også kapitalutstyret i hver av bransjene gitt, dermed er det bare arbeidskraft som er mobil, og arbeidsmarkedet er det eneste vi ser på. Videre er samlede tilbudet av arbeidskraft er konstant og gitt utenfor modellen. Vi antar derfor at det er en gitt samlet mengde arbeidskraft $N$ i økonomien, og at de to bransjene tilpasser seg slik at verdien av grenseproduktet er lik lønnen, så vi har: $p_if_'i\\dfrac{n_i}{k_i}$. Her er $p_i$ prisen på det som produseres i bransjen og $w$ er lønnen som begge bransjer står ovenfor. Det er likevekt i abreidsmarkedet når summmen av de to bransjenes etterspørsel er lik den gitte tilgangen: $n_1 + n_2 = N$\n",
    "\n",
    "\n",
    "\n",
    "To typer omstillinger: kort tids omstillinger som består i overføre ressurser som på kortsikt at variable og mobile: det vil å første rekke være snakk om arbeidskraft. Den andre type omstilling er omstillinger som krever tid, disse består av overføring som på kortsikt er faste, og gjelder i hovedsak realkapital (produksjonsutstyr).\n",
    "\n"
   ]
  },
  {
   "cell_type": "markdown",
   "metadata": {},
   "source": [
    "##### Stolper-Samuelson teoremet\n",
    "\n",
    "Teoremt sier at en økning i prisen på en vare vil føre til en reltativ økning i inntekten til faktoren som brukes intensivt i produksjonen av denne varen,  og en reduksjon i inntekten til den andre faktoren. \n",
    "\n",
    "Dette impliserer at handel vil øke lønningene i arbeidsintensive sektorer i land som eksporterer arbeidsintensive varer, men reduserer lønningene for kapital intensivesektorer, og vice versa. "
   ]
  },
  {
   "cell_type": "markdown",
   "metadata": {},
   "source": [
    "### Oppgave 2"
   ]
  },
  {
   "cell_type": "markdown",
   "metadata": {},
   "source": [
    "#### Modellen og globalisering\n",
    "\n",
    "Diagrammet viser en modell basert på en utvidelse av den klassiske sentrum-periferi-modellen. Den beskriver en to-lands modell hvor arbeidere er immobile mellom landene, men mobile mellom sektorer (jordbruk og industri) i hvert land. Diagrammet viser hvordan relative transportkostnader $(T)$ påvirker fordelingen av industrisysselsetting mellom de to landene.\n",
    "\n",
    "Punkter i bifurkasjonsdiagrammet:\n",
    "\n",
    "- Sustain point: Ved høy T er begge land stabile og har lokal produksjon. Høye transportkostnader betyr at det er kostbart å eksportere varer. Økonomisk sett vil begge land ha en betydelig andel av sysselsettingen, fordi det er mest lønnsomt å produsere varer der de forbrukes. Økonomisk aktivitet spres.\n",
    "\n",
    "- Break point (lav T, begynnelsen på ustabilitet):\n",
    "Ved et visst punkt, når transportkostnadene synker under et bestemt nivå, oppstår et \"break point\". Stordriftsfordeler i produksjon blir viktigere, og industrien begynner å konsentreres i ett land. Dette fordi det da blir mer lønnsomt for selskaper å samle produksjonen i ett land og transportere varer til det andre, til tross for transportkostnadene.\n",
    "\n",
    "- Ustabilt og konsentrert mønster ved lav T:\n",
    "Når transportkostnadene blir svært lave, blir mesteparten av sysselsettingen konsentrert i ett land. Dette landet vil dra nytte av stordriftsfordeler og agglomerasjon, mens det andre landet får en redusert økonomisk aktivtet, der industrier flyttes til områder med økonomike fordeler. \n",
    "\n",
    "##### Modellens anvendelse på Trumps handels- og tollpolitikk\n",
    "\n",
    "Donald Trump implementerte en proteksjonistisk handelspolitikk som inkluderte:\n",
    "\n",
    "- Økte tollsatser på importvarer (f.eks. fra Kina og EU).\n",
    "- Reforhandling av handelsavtaler.\n",
    "- «America First»-politikk med fokus på å beskytte amerikanske arbeidsplasser og industri.\n",
    "\n",
    "##### Effekter av proteksjonistisk politikk på transportkostnader og global handel:\n",
    "\n",
    "1. Økte transportkostnader (høyere $T$): Høyere tollsatser og handelshindringer tilsvarer økte transportkostnader i modellen. Høyere $T$ fører til en mer spredt produksjon, der begge land beholder en del av industrisysselsettingen.\n",
    "Land som tidligere har mistet arbeidsplasser til utlandet (f.eks. USA til Kina) kan oppleve at produksjon flyttes tilbake.\n",
    "\n",
    "2. Desentralisering av økonomisk aktivitet:Dersom $T$ øker nok, vil industrisysselsettingen i modellen bevege seg mot «sustain point». Globaliserte produksjonskjeder kan brytes opp, og flere land vil begynne å produsere for sine egne markeder i stedet for å konsentrere produksjonen i ett land og eksportere.\n",
    "\n",
    "3. Deglobalisering: Trumps handelsbarrierer kan redusere globaliseringens økonomiske gevinster, som lavere effektivitet og økte produksjonskostnader. Samtidig kan dette øke lokal industrisysselsetting i land som tidligere har opplevd industrinedgang.\n",
    "\n",
    "##### Risiko og konsekvenser:\n",
    "\n",
    "For USA: Høyere transportkostnader kan gjøre innenlandske produkter mer konkurransedyktige, men samtidig risikerer man høyere priser for forbrukerne og lavere effektivitet i verdikjedene.\n",
    "\n",
    "For andre land: Land som tidligere har hatt stor tilstrømning av industri, som Kina eller Mexico, kan miste denne fordelen dersom USA reduserer sin importavhengighet.\n",
    "\n",
    "##### Langsiktige konsekvenser av proteksjonisme:\n",
    "\n",
    "Risiko for ustabilitet i handelssystemet: Dersom transportkostnadene fortsetter å øke på grunn av toll eller andre barrierer, kan det oppstå en ustabil situasjon der land stadig må justere sin produksjonsstruktur.\n",
    "\n",
    "Agglomerasjonseffekter svekkes: Land med store industriklynger kan miste fordeler dersom produksjonen sprer seg igjen.\n",
    "\n",
    "Nye likevekter i global handel: På sikt kan handelspolitikk med høye barrierer føre til en verden med mer regional i stedet for global produksjon.\n",
    "\n",
    "Trumps proteksjonistiske politikk, ved å øke transportkostnader $(T)$, føre til spredning av økonomisk aktivitet og en reversering av globaliseringen. Dette kan beskytte lokal industri og arbeidsplasser, men samtidig føre til høyere kostnader og redusert effektivitet i verdikjeder. Modellen gir en nyttig ramme for å forstå hvordan slike politiske valg påvirker økonomien både nasjonalt og globalt."
   ]
  }
 ],
 "metadata": {
  "language_info": {
   "name": "python"
  }
 },
 "nbformat": 4,
 "nbformat_minor": 2
}
