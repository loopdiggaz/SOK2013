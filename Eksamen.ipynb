{
 "cells": [
  {
   "cell_type": "markdown",
   "metadata": {},
   "source": [
    "### Oppgave 1 "
   ]
  },
  {
   "cell_type": "markdown",
   "metadata": {},
   "source": [
    "##### Grunnlegende antakelser: \n",
    "\n",
    "- To land, to faktorer, og to varer (kapital og arbeidskraft)\n",
    "\n",
    "- Perfekt konkurranse i markedene\n",
    "\n",
    "- Ingen transportkostnader\n",
    "\n",
    "- Konstant skalautbytte "
   ]
  },
  {
   "cell_type": "markdown",
   "metadata": {},
   "source": [
    "##### Produksjonstilpasning\n",
    "\n",
    "Heckscher-Ohlin-modellem bygger på en klassisk modell innenfor internasjonal handel som forklarer forskjeller i lands ressursforhold påvirker handelsmønstre. Modellen bygger på antakselsen om at land har ulik tilgang til produksjonsfaktorer som arbeidskraft og kapital, og at dette påvirker hvilke varer de spesialiserer seg i og eksporterer. Før å utlede en likevekt i modellen på sikt vil oppgaven først gjøre rede for noen grunnleggende relasjoner og forutsetninger. \n",
    "\n",
    "Vi tenker at en vare blir produsert i en mengde $x$ ved hjelp av to faktorer kapitalinnsats $k$ og arbeidsinnsats $n$. Produksjon per enhet kapital $\\rightarrow \\dfrac{x}{k}$ øker hvis det blir satt inn flere arbeidere bak hver maskin. Produksjonen per enhet kapital avhenger bare av arbeidsinnsatsen bak per kapitalenhet - og kan skrives som: $\\dfrac{x}{k} = f\\dfrac{n}{k}$. Her ser vi at produksjon per enhet kapital er gitt som en funksjon $f$ av arbeidsinnsats og kapital. \n",
    "\n",
    "Produktfunksjonen kan dermed skrives som: \n",
    "\n",
    "$$x = kf\\dfrac{n}{k}$$\n",
    "\n",
    "Videre antar vi at produktitiveten er stigenede men konkav. Det vil si at produksjonen $x$ øker, når du øker arbeidskraft $(n)$, men økningen blir mindre og mindre for hver ekstra arbeider. Dette kan skrives som: $\\dfrac{dx}{dn} = kf' \\dfrac{1}{k} = f'$. Her ser vi at grenseproduktet til arbeidskraft, $f'$, angir hvor mye produksjonen $x$ øker ved en ekstra enhet arbeidskraft $n$, mens kapital $k$ holdes konstant. \n",
    "\n",
    "Bedriftene i de to bransjene tilpasser seg slik at verdien av grenseproduktet er lik lønnen, så vi har: $ pf'\\dfrac{n}{k} = w $. Her er $p$ produktprisen, altså den prisen bedriftene omsetter varen $x$ for. Dette er en tilpasning i arbeidsmarkedet der verdien av grenseproduktet til arbeidskraften er lik kostnaden eller lønnen. Dette er en optimal tilpasning fordi: \n",
    "\n",
    "- Hvis $pf'\\dfrac{n}{k} > w$, kan bedriften øke profitt ved å ansette flere arbeidere. \n",
    "\n",
    "- Hvis $pf'\\dfrac{n}{k} < w$, vil bedriften redusere antall arbeidere for å spare kostnader. \n",
    "\n",
    "##### Etterspørsel etter arbeidskraft \n",
    "\n",
    "Vi har nå har $p$ er prisen på det som produseres i hver bransje, og $w$ er lønnsatsen som bransjene står ovenfor. Dette viser at bedriftenes valg av arbeidsinnsats per krone investert vil avhenge av forholdet mellom og produktpris. Etterspørselen etter arbeidskraft $(n)$ vil være en funksjon (kalt g) av forholdet mellom lønn og produktpris. \n",
    "\n",
    "$$ \\dfrac{n}{k} = g\\dfrac{w}{p} $$ \n",
    "\n",
    "Går lønnen opp eller prisen på produktet ned, så vil bedriftene velge å bruke mindre arbeidskraft per krone investert, fra denne ligningen ser vi at bedriftens etterspørsel etter arbeidskraft multiplisert med kapital mengden blir $n = kg \\dfrac{w}{p}$. Fra denne ligningen er det veldig lett å se at dersom $w \\uparrow $ vil etterspørselen etter arbeidskraft gå ned hvis lønnen øker, og gå opp hvis produktprisen øker eller bedriftene får mer kapitalutstyr. Sammennhengen mellom lønn og etterspørsel etter arbeidskraft er dermed fallende. Sammenhengen mellom produktpris og etterspørsel innebærer at kurven er fallende, og sammenhengen mellom produktpris og etterspørsel innebærer at kurven skifter om øker produktprisen øker. Forholdet mellom disse er slik at dersom produktpris og lønninger øker, vil lønnen kunnne øke prosentvis like mye og etterspørselen etter arbeidskraft. I sammenhengen mellom mengden kapitalutstyr og etterspørselen etter arbeidskraft er det viktig å huske at tilpasningsvilkåret:\n",
    "\n",
    "$ n = kg\\dfrac{w}{p} $, bestemmer innsatsen av arbeidskraft per krone investert som funksjon av lønn og produktpris. Så lenge lønn og produktpris er uendret, vil bedriftene derfor ønske å holde forholdstallet mellom arbeids- og kapitalinnsats konstant. Hvis det skulle bli foretatt nye investeringer i bedriftene, slik arbeidsinnsatsen øker, vil bedriftene etterspørre mer arbeidskraft slik at forholdet mellom $n$ og $k$ forblir det samme som før. \n",
    "\n",
    "##### Kort sikt \n",
    "\n",
    "Vi ser nå på en økonomi med to bransjer. Hver av dem kan beskrives på den måten som ble beskrevet ovenfor: vi lar $i$ angi bransje, derfor har vi nå en slik produktfunksjon: $x_i = k_i f_i \\dfrac{n_i}{k_i}$, der $x_i$ er mengde produsert i bransje $i$, $k_i$ er kapitalutstyret i bransjen, og $n_i$ er antall sysselsatte. Bedriftene tilpasser seg slik at verdien av arbeidskraftens grenseprodukt blir lik lønnssatsen. Produktprisene er gitt utenfor modelle, det samme er tilgangen på arbeidskraft. På kort sikt er også kapitalutstyret i hver av bransjene gitt, dermed er det bare arbeidskraft som er mobil, og arbeidsmarkedet er det eneste vi ser på. Videre er samlede tilbudet av arbeidskraft er konstant og gitt utenfor modellen. Vi antar derfor at det er en gitt samlet mengde arbeidskraft $N$ i økonomien, og at de to bransjene tilpasser seg slik at verdien av grenseproduktet er lik lønnen, så vi har: $p_if'_i\\dfrac{n_i}{k_i}$. Her er $p_i$ prisen på det som produseres i bransjen og $w$ er lønnen som begge bransjer står ovenfor. Det er likevekt i arbeidsmarkedet når summmen av de to bransjenes etterspørsel er lik den gitte tilgangen: $n_1 + n_2 = N$\n",
    "\n",
    "##### Avkastning på investeringer \n",
    "\n",
    "Det finnes to typer omstillinger: kort tids omstillinger som består i overføre ressurser som på kortsikt er variable og mobile: det vil å første rekke være snakk om arbeidskraft. Den andre type omstilling er omstillinger som krever tid, disse består av overføring som på kortsikt er faste, og gjelder i hovedsak realkapital (produksjonsutstyr).\n",
    "\n",
    "Det som driver frem struktur omstillingen i en markedsøkonomi, er forskjeller i lønnsomhet mellom ulike typer virksomheter. Enkeltbedrifter og bransjer med relativt lav kapitalavkastning vil oppleve at de ikke klarer å konkurrere med mer lønnsomme virksomheter om den kapitalen som er nødvendig for å fornye produksjonsutstyr og kunnskapsbasen sin. Dette fører til at de gradvis forvitrer. \n",
    "\n",
    "Nøkkelen til strukturomstillingen er derfor lønnsomhet og avkastning på nye investeringer. I denne modellen er det konstant skalautbytte, så derfor er disse to de samme. Dersom vi lar $\\pi$ stå for det samlede overskuddet: $\\pi = px - wn$, kan vi nå skrive om overskuddet per krone investert - eller kapital avkastningen som (kalt r): $r = \\dfrac{\\pi}{k} = p\\dfrac{x}{k} - w\\dfrac{n}{k}$. Ønsker å finne sammenhengen mellom gjennomsnittlig kapitalavkastning og verdien av kapitalens grenseprodukt (avkastningen på nye investeringer). For å gjøre dette må man gå tilbake til produktfunksjon $\\rightarrow$ $x = kf\\dfrac{n}{k}$. Fra produktfunksjon ser man at kapitalens grenseprodukt er: \n",
    "\n",
    "$\\dfrac{dx}{dk} = f - kf'\\dfrac{n}{k^2} = f - \\dfrac{n}{k}f'$. Kapitalen grenseproduktivtet,$f'$, viser hvor mye produksjon du får ved å øke kapitalen med en enhet gitt at alt annet holdes konstant. \n",
    "\n",
    "Vi har at $\\dfrac{x}{k}$ = gjennomsnittlig produksjon per enhet kapital, og kan utlede følgende ligning: \n",
    "\n",
    "$$ \\dfrac{x}{k} = \\dfrac{dx}{dk} + \\dfrac{n}{k} \\times \\dfrac{dx}{dn} $$\n",
    "\n",
    "Tolkiningen av denne er at $\\dfrac{dx}{dk}$ = bidraget fra kapitalen sitt grenseprodukt. Mens $\\dfrac{n}{k} \\times \\dfrac{dx}{dn}$ = bidraget fra hvordan arbeidskraft $n$ påvirker produksjonen i forhold til kapitalen. Summen av disse leddene gir den totale effekten på produksjonen når både kapital og arbeidskraft økes proporsjonalt. Gjennomsnittlig kapitalproduktivetet kan derfor brytes ned i grenseproduktivetet av kapital og effekten av tilhørende ekstra arbeidskraft. Ved å flytte litt rundt på leddene får vi at: \n",
    "\n",
    "$$ p \\times \\dfrac{dx}{dk} = p \\times [f - \\dfrac{n}{k}f'] $$\n",
    "\n",
    "Videre tilpasser bedriftene seg slik at bruken av arbeidskraftens grenseprodukt er lik lønnen $\\rightarrow$ $pf' = w$, derfor kan vi skrive om lignignen over slik: \n",
    "\n",
    "$$ p \\times \\dfrac{dx}{dk} = pf - w\\dfrac{n}{k} $$\n",
    "\n",
    "Videre vet vi at $\\dfrac{x}{k} = f$, derfor får vi \n",
    "\n",
    "$$ p \\times \\dfrac{dx}{dk} = r $$"
   ]
  },
  {
   "cell_type": "markdown",
   "metadata": {},
   "source": [
    "##### Stolper-Samuelson teoremet\n",
    "\n",
    "Teoremt sier at en økning i prisen på en vare vil føre til en reltativ økning i inntekten til faktoren som brukes intensivt i produksjonen av denne varen,  og en reduksjon i inntekten til den andre faktoren. \n",
    "\n",
    "Dette impliserer at handel vil øke lønningene i arbeidsintensive sektorer i land som eksporterer arbeidsintensive varer, men reduserer lønningene for kapital intensivesektorer, og vice versa. "
   ]
  },
  {
   "cell_type": "markdown",
   "metadata": {},
   "source": [
    "### Oppgave 2"
   ]
  },
  {
   "cell_type": "markdown",
   "metadata": {},
   "source": [
    "#### Modellen og globalisering\n",
    "\n",
    "Diagrammet viser en modell basert på en utvidelse av den klassiske sentrum-periferi-modellen. Den beskriver en to-lands modell hvor arbeidere er immobile mellom landene, men mobile mellom sektorer (jordbruk og industri) i hvert land. Diagrammet viser hvordan relative transportkostnader $(T)$ påvirker fordelingen av industrisysselsetting mellom de to landene.\n",
    "\n",
    "Punkter i bifurkasjonsdiagrammet:\n",
    "\n",
    "- Sustain point: Ved høy T er begge land stabile og har lokal produksjon. Høye transportkostnader betyr at det er kostbart å eksportere varer. Økonomisk sett vil begge land ha en betydelig andel av sysselsettingen, fordi det er mest lønnsomt å produsere varer der de forbrukes. Økonomisk aktivitet spres.\n",
    "\n",
    "- Break point (lav T, begynnelsen på ustabilitet):\n",
    "Ved et visst punkt, når transportkostnadene synker under et bestemt nivå, oppstår et \"break point\". Stordriftsfordeler i produksjon blir viktigere, og industrien begynner å konsentreres i ett land. Dette fordi det da blir mer lønnsomt for selskaper å samle produksjonen i ett land og transportere varer til det andre, til tross for transportkostnadene.\n",
    "\n",
    "- Ustabilt og konsentrert mønster ved lav T:\n",
    "Når transportkostnadene blir svært lave, blir mesteparten av sysselsettingen konsentrert i ett land. Dette landet vil dra nytte av stordriftsfordeler og agglomerasjon, mens det andre landet får en redusert økonomisk aktivtet, der industrier flyttes til områder med økonomike fordeler. \n",
    "\n",
    "##### Modellens anvendelse på Trumps handels- og tollpolitikk\n",
    "\n",
    "Donald Trump har fremmet en proteksjonistisk handelspolitikk som inkluderer:\n",
    "\n",
    "- Økte tollsatser på importvarer (f.eks. fra Kina og EU).\n",
    "- Reforhandling av handelsavtaler.\n",
    "- «America First»-politikk med fokus på å beskytte amerikanske arbeidsplasser og industri.\n",
    "\n",
    "##### Effekter av proteksjonistisk politikk på transportkostnader og global handel:\n",
    "\n",
    "1. Økte transportkostnader (høyere $T$): Høyere tollsatser og handelshindringer tilsvarer økte transportkostnader i modellen. Høyere $T$ fører til en mer spredt produksjon, der begge land beholder en del av industrisysselsettingen.\n",
    "Land som tidligere har mistet arbeidsplasser til utlandet (f.eks. USA til Kina) kan oppleve at produksjon flyttes tilbake.\n",
    "\n",
    "2. Desentralisering av økonomisk aktivitet:Dersom $T$ øker nok, vil industrisysselsettingen i modellen bevege seg mot «sustain point». Globaliserte produksjonskjeder kan brytes opp, og flere land vil begynne å produsere for sine egne markeder i stedet for å konsentrere produksjonen i ett land og eksportere.\n",
    "\n",
    "3. Deglobalisering: Trumps handelsbarrierer kan redusere globaliseringens økonomiske gevinster, som lavere effektivitet og økte produksjonskostnader. Samtidig kan dette øke lokal industrisysselsetting i land som tidligere har opplevd industrinedgang.\n",
    "\n",
    "##### Risiko og konsekvenser:\n",
    "\n",
    "For USA: Høyere transportkostnader kan gjøre innenlandske produkter mer konkurransedyktige, men samtidig risikerer man høyere priser for forbrukerne og lavere effektivitet i verdikjedene.\n",
    "\n",
    "For andre land: Land som tidligere har hatt stor tilstrømning av industri, som Kina eller Mexico, kan miste denne fordelen dersom USA reduserer sin importavhengighet.\n",
    "\n",
    "##### Langsiktige konsekvenser av proteksjonisme:\n",
    "\n",
    "Risiko for ustabilitet i handelssystemet: Dersom transportkostnadene fortsetter å øke på grunn av toll eller andre barrierer, kan det oppstå en ustabil situasjon der land stadig må justere sin produksjonsstruktur.\n",
    "\n",
    "Agglomerasjonseffekter svekkes: Land med store industriklynger kan miste fordeler dersom produksjonen sprer seg igjen.\n",
    "\n",
    "Nye likevekter i global handel: På sikt kan handelspolitikk med høye barrierer føre til en verden med mer regional i stedet for global produksjon.\n",
    "\n",
    "Trumps proteksjonistiske politikk, ved å øke transportkostnader $(T)$, føre til spredning av økonomisk aktivitet og en reversering av globaliseringen. Dette kan beskytte lokal industri og arbeidsplasser, men samtidig føre til høyere kostnader og redusert effektivitet i verdikjeder. Modellen gir en nyttig ramme for å forstå hvordan slike politiske valg påvirker økonomien både nasjonalt og globalt."
   ]
  },
  {
   "cell_type": "markdown",
   "metadata": {},
   "source": [
    "### Oppgave 3"
   ]
  },
  {
   "cell_type": "markdown",
   "metadata": {},
   "source": []
  }
 ],
 "metadata": {
  "language_info": {
   "name": "python"
  }
 },
 "nbformat": 4,
 "nbformat_minor": 2
}
