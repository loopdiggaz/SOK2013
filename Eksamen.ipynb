{
 "cells": [
  {
   "cell_type": "markdown",
   "metadata": {},
   "source": [
    "### Oppgave 1 "
   ]
  },
  {
   "cell_type": "markdown",
   "metadata": {},
   "source": [
    "Hvilken modell er det Krugman implisitt referer til når han nevner \"Stolper-Samuelsen analysis\"? Sett opp modellen, gjør rede for for forutsetninger, relasjoner, hva som er eksogent og hva som er endogent. Du skal bruke samme notasjon som til Norman og Orvedel. Vis grafisk likevekt i modellen og vis grafisk Stolper-Samuelson teoremet. Forklar relevansen i teoremet for effekter av internasjonel handel internt i et land."
   ]
  },
  {
   "cell_type": "markdown",
   "metadata": {},
   "source": [
    "##### Heckscher-Ohlin-modellen\n",
    "\n",
    "Modellen er en klassisk modell innenfor internasjonal handel som forklarer forskjeller i landenens ressursforhold (faktorendowment) påvirker handelsmønstre. Modellen bygger på antakselsen om at land har ulik tilgng til prodksjonsfaktorer som arbeidskraft og kapital, og at dette påvirker hvilke varer de spesialiserer seg i og eksporterer.\n",
    "\n",
    "Modellen egner seg svært godt til å analysere det langsiktige samspillet mellom arbeids- og kapitalmarkedene - et samspill som gjør at endringer i produktpriser og faktortilgang på lang sikt har helt andre virkninger på produksjonsmønster og faktorpriser på lang sikt har helt andre virkninger på produksjonsmønster og faktorpriser enn det man intuitivt skulle vente.\n",
    "\n",
    "$$ p_1f'_1\\dfrac{n_1}{k_1} = w $$\n",
    "\n",
    "og, \n",
    "\n",
    "$$ p_2f'_2\\dfrac{n_2}{k_2} = w $$"
   ]
  },
  {
   "cell_type": "markdown",
   "metadata": {},
   "source": [
    "##### Grunnlegende antakelser: \n",
    "\n",
    "- To land, to faktorer, og to varer (kapital og arbeidskraft)\n",
    "\n",
    "- Perfekt konkurranse i markedene\n",
    "\n",
    "- Ingen transportkostnader\n",
    "\n",
    "- Konstant skalautbytte "
   ]
  },
  {
   "cell_type": "markdown",
   "metadata": {},
   "source": [
    "##### Stolper-Samuelson teoremet\n",
    "\n",
    "Teoremt sier at en økning i prisen på en vare vil føre til en reltativ økning i inntekten til faktoren som brukes intensivt i produksjonen av denne varen,  og en reduksjon i inntekten til den andre faktoren. \n",
    "\n",
    "Dette impliserer at handel vil øke lønningene i arbeidsintensive sektorer i land som eksporterer arbeidsintensive varer, men reduserer lønningene for kapital intensivesektorer, og vice versa. "
   ]
  }
 ],
 "metadata": {
  "language_info": {
   "name": "python"
  }
 },
 "nbformat": 4,
 "nbformat_minor": 2
}
